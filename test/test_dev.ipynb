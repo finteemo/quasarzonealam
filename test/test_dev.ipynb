{
 "cells": [
  {
   "cell_type": "markdown",
   "metadata": {},
   "source": [
    "### 테스트"
   ]
  },
  {
   "cell_type": "markdown",
   "metadata": {},
   "source": [
    "#### requests + bs4"
   ]
  },
  {
   "cell_type": "code",
   "execution_count": 3,
   "metadata": {},
   "outputs": [],
   "source": [
    "import requests\n",
    "from bs4 import BeautifulSoup"
   ]
  },
  {
   "cell_type": "code",
   "execution_count": 4,
   "metadata": {},
   "outputs": [],
   "source": [
    "url = 'https://quasarzone.com/bbs/qb_saleinfo'"
   ]
  },
  {
   "cell_type": "code",
   "execution_count": 16,
   "metadata": {},
   "outputs": [
    {
     "data": {
      "text/plain": [
       "<Response [403]>"
      ]
     },
     "execution_count": 16,
     "metadata": {},
     "output_type": "execute_result"
    }
   ],
   "source": [
    "#header = {\n",
    "#    'User-Agent' :'Mozilla/5.0 (Windows NT 10.0; Win64; x64) AppleWebKit/537.36 (KHTML, like Gecko) Chrome/115.0.0.0 Safari/537.36 Edg/115.0.1901.183'}\n",
    "header = {\n",
    "    \"Accept-Language\" : \"ko-KR,ko\",\n",
    "    \"Sec-Ch-Ua-Platform\":\"Windows\",\n",
    "    \"Accept\": \"text/html,application/xhtml+xml,application/xml;q=0.9,image/avif,image/webp,image/apng,*/*;q=0.8,application/signed-exchange;v=b3;q=0.7\",\n",
    "    'User-Agent' : 'Mozilla/5.0 (Windows NT 10.0; Win64; x64) AppleWebKit/537.36 (KHTML, like Gecko) Chrome/114.0.0.0 Safari/537.36'}\n",
    "#header = {'User-Agent' : 'Mozilla/5.0 (Macintosh; Intel Mac OS X 10.15; rv:101.0) Gecko/20100101 Firefox/101.0'}\n",
    "response = requests.get(url,  headers = header, )\n",
    "response"
   ]
  },
  {
   "cell_type": "code",
   "execution_count": 28,
   "metadata": {},
   "outputs": [
    {
     "data": {
      "text/plain": [
       "'<!DOCTYPE html><html lang=\"en-US\"><head><title>Just a moment...</title><meta http-equiv=\"Content-Type\" content=\"text/html; charset=UTF-8\"><meta http-equiv=\"X-UA-Compatible\" content=\"IE=Edge\"><meta name=\"robots\" content=\"noindex,nofollow\"><meta name=\"viewport\" content=\"width=device-width,initial-scale=1\"><link href=\"/cdn-cgi/styles/challenges.css\" rel=\"stylesheet\"><meta http-equiv=\"refresh\" content=\"35\"></head><body class=\"no-js\"><div class=\"main-wrapper\" role=\"main\"><div class=\"main-content\"><noscript><div id=\"challenge-error-title\"><div class=\"h2\"><span class=\"icon-wrapper\"><div class=\"heading-icon warning-icon\"></div></span><span id=\"challenge-error-text\">Enable JavaScript and cookies to continue</span></div></div></noscript><form id=\"challenge-form\" action=\"/bbs/qb_saleinfo?__cf_chl_f_tk=NZrdusX0WjQGRoRP6KuJ0JMPHzg.0JxRE9CfAvGCTcU-1690351623-0-gaNycGzNCrs\" method=\"POST\" enctype=\"application/x-www-form-urlencoded\"><input type=\"hidden\" name=\"md\" value=\"4YchGp8DYlANlp1Hl4h8CckAswTJgbD3VePnqyu8Wrs-1690351623-0-ASQDZPhyIpmOy1tqtewptzgfaKP6bp1ydtwNeHXRCjHmGTxHBP6ZCF10uH9508z262_QP3wtrsxNY-PuzOSIqwavYtoXOIUZOLpybklVOCkHR-XP73xIrbH_DLivIz9F6lMteWDpgNuuIFFrvmJ1S-9OOAt1hM6Kho8rlfMoQngWoFF9BMRSOLKL87u9itTUQudBOT47rSxtXXU5J_LnGbE-utBsFV29viS_brvcnwPruXgOMIq8-AnvVbnsBHDHG4m0DO5Maf1yTjoByAtK9Zj17yUMOJX9sk4a9uk4C6zB_BQWtFKN34O4exj0qQe9RprMUZ-Ez3Jec7Z0AdfhxI_T1LAyuGJoPSPV2gG_yTNiN55VijByTzOgDLYVV-GEeMcXka7MImoBJ2lg9XwpCvgIFt1Fqjpx99NoNBmku5P7xgV3kaFz6E1lsCdav5ZD38exg26rI5bVNGza4dfqNpQ_sZI2juIdqDAygFPKENOTU5clOX5T_ovQ1U5_R5ykpXpzf2SwoaTiuExTUA7o2TI8uEDXVSTOTFbqtCR6wO1SxffepdoxckwJgK04zI4-iCQR7r0rxlkUhDMHgJ84rDz9gSPQO4XBz2gVazdYzb8pzky7R10r6mkf-v3GGDR_t39V-DRTYh_djLvPQdN9BTJ6HSc5EpIfqHFeszyzchQ2Y4mPZDzS6JtwIamF0yV-MNASzeDVIzQAszxaAHgMLB19ZDZd24SeFI36I-sU4ZDHhk3Jn139EiSXRyPUf4amIxFFgjLaSrM8dZd7AQG5vmpptTFaTZaYluZPZnWc7xlMTxIbrkZzb_gmyAs1mddQyadW4lpgGfpha7Ev73i_oya-5MFb0ZIF9Admj10DCni35I_IAbT2tyt3mH4sOFmD34hRu-uxGlK2TSlZtk3Uuf8gcu4zemVVWFux_d2SVKZh2EFwZGyyccdMvtrJHFGhd8r0N-kQlK0YLVKvYWtPf-gXtQ2dyov9CYDUnqBu2ftnq51OFDSn4gwhaBXKaiJzbPCJMcfEoCba_2InArjYa5umu3TLUTi_d2F55VsnVUMdlb8eWSmLpY7yH2iPSwdKbv8h9ZAjL5qBHD4654GgRTN6DNWWHfIZnZ3kQsDd5T5hdAwEf51l9mZnFjt7-ufDgHLnLGH3i-wHP5lq1acJbN-H5xWCL7q05m6tMpoFyy6xul9-1_MssNn3MemocZau43OAyu_Lg8Aki87vyOFHUAUCsej1TfoAH5fHANmlodCdyg8z0wToN7EPiwBTGlohSQc3aEBk_S9gF_wSRpaIlt-YQ4X_7Z99BjA9uSYNaBmQ1ekMitOLewIz5dGnZtqXWliO12U5R_DndifQzFNUIuBbmBJLGUUvAqt-7zae6qxVkMuPO7QDFWwim6wA8grMB2Lyb-CVY-tspLDcriyIikzPQgyjIlCHep8RKVsgPNqPSSU1eCI5I5DPfDsC0uG0UMaXqH7KFDSDpQ_9JV-mHb46zAsdCGQQDIY_mayUeOcl25QsOPSIGnk_g3ovuMJvmYyeuo-oBbzqsNtEmxoQ0DhOWTvx4XbmDFqKFtIc04VmIEIKPSIPoPWMdkQ_E_pyo8NPM3pOFDK-upl8g-IEXdEccuhlHeeYZrYTAOaCjOhwlkTjvqr-nwwqJUHntzjwX49HyZxP0IqBhUkO8ZI0rGKVFo_Pc4IU2zM5C_hI3smz6I8ZpL1WUSisAVZXTseP8qFOSSiIjLgZ9PDIuZ7ijdeuXM18_O-56zZeAdIhrQHCSUyOi8tf34NSp2KEE2XRCesIYliOhhGyCnsghdNfNUa52DfCEYfYqirHWONl8Z18ghe-GLqsiujetaB2wYSeksMO-x8WyiKWtNNQYXtHLLUbhyjXT9GgCgN4RVXU6r8Bs233CS7XqZrkOY5mrGSr66mcMge7yHnbEgr5-BpSycIltvcDNzfzz6aQaZFAqtxTGBMRRWOfFPlcDyQcEppm-jPSEE36jsITDh43qTYZIeS5STPNyCyh_Oglc1XrrpYBCYOrvBPhn-WpyRTgNk-lFq9m5JwkDsutuGgoSVBYNScqKy9NcFPh4WyFvVnWFje7hbuidk1zpNAAgqh9EL8PCc6Nz7ZU9MdJSBJ7nZDevXmPkv8uPa9DRxUgyGqFKee2_QQqG_0RPKkJWVaD_E4Kr1QpAsLY4DTU753dpvO5FR2J6tNdDnLbWsYFGOomHhHzFWjIQDMTm7awegppBOv0jDhePhoYbh9wAMk58MP-Vpkjtpup-hhcBy1yLzLUEmrc94LJtayhxySXlbPT592akAr38re90EiP6K17Ms7wT1o5KE6QDzc3MkFTLA7xLWQyJEIsgqH9nGp5WgY0M_9NRQgpNAClCwnwh__KTzVlgl4c0-16h2cA8hCaIO5nKy6YVkcD3Khpmvm63z9eMBqf7kKzVBPpgixfbnZ9_J-0BqQ-pk-cxnbkAEzJ4TI30oRpq5DfoNMsnoVIaur27HLmJaomh7ZyVArW8UwNyQFQw3rBByZv1wGEWly9xwkPt1DGUdj5RQ0DgpBU81ZItNTJnwK_c00QKVXV3MRYiCMO_fSSask2mClqFAT2U2pHLdbIl8kTLeAJo9RviaJ4Rsu4-BHwqLBPrLdE0z3lIaDxHQR1j_VgKXSYCwQGZKgqoIYmHXVp4XnxlSF3YWskqLma1Q\"></form></div></div><script>(function(){window._cf_chl_opt={cvId: \\'2\\',cZone: \\'quasarzone.com\\',cType: \\'non-interactive\\',cNounce: \\'82529\\',cRay: \\'7eca75ceeec4932b\\',cHash: \\'6d48c2e0c27540e\\',cUPMDTk: \"\\\\/bbs\\\\/qb_saleinfo?__cf_chl_tk=NZrdusX0WjQGRoRP6KuJ0JMPHzg.0JxRE9CfAvGCTcU-1690351623-0-gaNycGzNCrs\",cFPWv: \\'g\\',cTTimeMs: \\'1000\\',cMTimeMs: \\'60000\\',cTplV: 5,cTplB: \\'cf\\',cK: \"\",cRq: {ru: \\'aHR0cHM6Ly9xdWFzYXJ6b25lLmNvbS9iYnMvcWJfc2FsZWluZm8=\\',ra: \\'TW96aWxsYS81LjAgKFdpbmRvd3MgTlQgMTAuMDsgV2luNjQ7IHg2NCkgQXBwbGVXZWJLaXQvNTM3LjM2IChLSFRNTCwgbGlrZSBHZWNrbykgQ2hyb21lLzExNC4wLjAuMCBTYWZhcmkvNTM3LjM2\\',rm: \\'R0VU\\',d: \\'r10zRAXI2aASuSQvWhv75jtGz3a3qO2UEVcRBur5+l5soYNX1xeeX5K/usVXwmVckNvLGcgMkGejV0GbrK2duwGbxCxBQsp/PODn56v5K5aAv+DwxkFDQgtOKQyibVM5EnrqvywZZFa4K8xQnAb/DBvCzeH+Y6eC2u81eaGfsEzLekE6tWo2UL80TNlgzaynyo9qwKSHTfJRHYqIcrKo0Ih6VhKW3YvHJzTWjU6xWjvrOCJWCW0kShRA+mpmySqHRQiwWq213R0j1KS6YgZ6THPvntN3GD0GXoOFYNgkZ6XqdZbFp7ccGT4yvtHJlpSb4/9ZiAjL93LIMgMkymbsQpbMubI4bFSBA8faPHyjvLHQwzEYudHWXLn7lvPUBahIeW6FVHPsRuUsqqKy6MFThTSi17RECz6J2uBDQ38pGtlJQjTa1XjJSih2u44xJ9oLV8XdVig2lYRkQnAUE51HVo2VtrlJFUMSOvqkchvH1ajJ1yfW/OSdyc9w7/iC4lUqQq73H8kqiWJOQxm+a+XkKxuWM1ai6/ka2fYbHSHK2fA=\\',t: \\'MTY5MDM1MTYyMy41MTAwMDA=\\',cT: Math.floor(Date.now() / 1000),m: \\'5xEiI+4C724WovqXCo8+BBZ3t0nBIV5ywzeAkndzDIM=\\',i1: \\'cDTcnWcHSGOcxkckpjy37A==\\',i2: \\'g/bNExo4ECGBhRL7z5M4lA==\\',zh: \\'Nfvx/klf+CMqmI1sM+lXGpO4rR4K2N/QJJFBolhtvBw=\\',uh: \\'0CF8H7M40rTpO3nQlHachgfkgE8HRlszEVlfLXI8vE4=\\',hh: \\'Q5aEUI1P0g2xOxYWGWgSDg+BI17GGjhwC53YloOSvaE=\\',}};var cpo = document.createElement(\\'script\\');cpo.src = \\'/cdn-cgi/challenge-platform/h/g/orchestrate/chl_page/v1?ray=7eca75ceeec4932b\\';window._cf_chl_opt.cOgUHash = location.hash === \\'\\' && location.href.indexOf(\\'#\\') !== -1 ? \\'#\\' : location.hash;window._cf_chl_opt.cOgUQuery = location.search === \\'\\' && location.href.slice(0, location.href.length - window._cf_chl_opt.cOgUHash.length).indexOf(\\'?\\') !== -1 ? \\'?\\' : location.search;if (window.history && window.history.replaceState) {var ogU = location.pathname + window._cf_chl_opt.cOgUQuery + window._cf_chl_opt.cOgUHash;history.replaceState(null, null, \"\\\\/bbs\\\\/qb_saleinfo?__cf_chl_rt_tk=NZrdusX0WjQGRoRP6KuJ0JMPHzg.0JxRE9CfAvGCTcU-1690351623-0-gaNycGzNCrs\" + window._cf_chl_opt.cOgUHash);cpo.onload = function() {history.replaceState(null, null, ogU);};}document.getElementsByTagName(\\'head\\')[0].appendChild(cpo);}());</script></body></html>'"
      ]
     },
     "execution_count": 28,
     "metadata": {},
     "output_type": "execute_result"
    }
   ],
   "source": [
    "response.text\n",
    "# tit =  soup.select('.ellipsis')"
   ]
  },
  {
   "cell_type": "markdown",
   "metadata": {},
   "source": [
    "#### fake user agent"
   ]
  },
  {
   "cell_type": "code",
   "execution_count": 23,
   "metadata": {},
   "outputs": [
    {
     "name": "stdout",
     "output_type": "stream",
     "text": [
      "Mozilla/5.0 (X11; U; Linux x86_64; en-US) AppleWebKit/534.13 (KHTML, like Gecko) Chrome/9.0.597.107 Safari/534.13 v1416748405.3871\n"
     ]
    }
   ],
   "source": [
    "# 페이크 유저 에이전트 ... \n",
    "# import selenium.webdriver as webdriver    \n",
    "# from selenium.webdriver.chrome.options import Options\n",
    "# from fake_useragent import UserAgent\n",
    "# # 랜덤으로 생성한 UserAgent 값을 출력한다\n",
    "# ua = UserAgent(verify_ssl=False)\n",
    "# userAgent = ua.random\n",
    "# print(userAgent)\n"
   ]
  },
  {
   "cell_type": "markdown",
   "metadata": {},
   "source": [
    "#### 클라우드플레어 패싱"
   ]
  },
  {
   "cell_type": "code",
   "execution_count": 34,
   "metadata": {},
   "outputs": [
    {
     "data": {
      "text/plain": [
       "<Response [403]>"
      ]
     },
     "execution_count": 34,
     "metadata": {},
     "output_type": "execute_result"
    }
   ],
   "source": [
    "# 클라우드플레어 패싱하기\n",
    "# https://blog.octachart.com/how-to-by-pass-cloudflare-while-scraping\n",
    "from bs4 import BeautifulSoup as beauty\n",
    "import cloudscraper\n",
    "scraper = cloudscraper.create_scraper(delay=20, browser='chrome') \n",
    "url = 'https://quasarzone.com/bbs/qb_saleinfo'\n",
    "info = scraper.get(url)\n",
    "info"
   ]
  },
  {
   "cell_type": "code",
   "execution_count": 36,
   "metadata": {},
   "outputs": [
    {
     "name": "stdout",
     "output_type": "stream",
     "text": [
      "<Response [403]>\n"
     ]
    }
   ],
   "source": [
    "# https://www.zenrows.com/blog/bypass-cloudflare-python#cfscrape\n",
    "# cfscrape\n",
    "import cfscrape \n",
    " \n",
    "scraper = cfscrape.create_scraper() \n",
    "scraped_data = scraper.get('https://quasarzone.com/bbs/qb_saleinfo')\n",
    "print(scraped_data)"
   ]
  },
  {
   "cell_type": "code",
   "execution_count": 2,
   "metadata": {},
   "outputs": [
    {
     "ename": "NameError",
     "evalue": "name '__file__' is not defined",
     "output_type": "error",
     "traceback": [
      "\u001b[1;31m---------------------------------------------------------------------------\u001b[0m",
      "\u001b[1;31mNameError\u001b[0m                                 Traceback (most recent call last)",
      "Cell \u001b[1;32mIn[2], line 8\u001b[0m\n\u001b[0;32m      6\u001b[0m bot \u001b[39m=\u001b[39m telegram\u001b[39m.\u001b[39mBot(token\u001b[39m=\u001b[39m\u001b[39m'\u001b[39m\u001b[39m6460634038:AAFKoipDkC4gRHDB175-1J9SAUQ458vlVCY\u001b[39m\u001b[39m'\u001b[39m)\n\u001b[0;32m      7\u001b[0m \u001b[39m#chat_id = bot.getUpdates()[-1].message.chat.id\u001b[39;00m\n\u001b[1;32m----> 8\u001b[0m BASE_DIR \u001b[39m=\u001b[39m os\u001b[39m.\u001b[39mpath\u001b[39m.\u001b[39mdirname(os\u001b[39m.\u001b[39mpath\u001b[39m.\u001b[39mabspath(\u001b[39m__file__\u001b[39m))\n\u001b[0;32m     10\u001b[0m \u001b[39m#req = requests.get('https://www.ddengle.com/buyinfo')\u001b[39;00m\n\u001b[0;32m     11\u001b[0m req \u001b[39m=\u001b[39m requests\u001b[39m.\u001b[39mget(\u001b[39m'\u001b[39m\u001b[39mhttps://quasarzone.com/bbs/qb_saleinfo\u001b[39m\u001b[39m'\u001b[39m)\n",
      "\u001b[1;31mNameError\u001b[0m: name '__file__' is not defined"
     ]
    }
   ],
   "source": [
    "# import requests\n",
    "# from bs4 import BeautifulSoup\n",
    "# import os\n",
    "# import telegram\n",
    "\n",
    "# bot = telegram.Bot(token='6460634038:AAFKoipDkC4gRHDB175-1J9SAUQ458vlVCY')\n",
    "# #chat_id = bot.getUpdates()[-1].message.chat.id\n",
    "# BASE_DIR = os.path.dirname(os.path.abspath(__file__))\n",
    "\n",
    "# #req = requests.get('https://www.ddengle.com/buyinfo')\n",
    "# req = requests.get('https://quasarzone.com/bbs/qb_saleinfo')\n",
    "# req.encoding = 'utf-8'\n",
    "\n",
    "# html = req.text\n",
    "# soup = BeautifulSoup(html, 'html.parser')\n",
    "# table = soup.find(\"table\")\n",
    "# #print(table)\n",
    "# post = table.find(\"a\", class_=\"subject-link\")[\"href\"]\n",
    "# #print(post)\n",
    "# posts = 'https://quasarzone.com'+ post\n",
    "# print(posts)\n",
    "\n",
    "# latest = posts\n",
    "\n",
    "# #ss = soup.find(\"a\", class_=\"subject-link\")[\"href\"]\n",
    "\n",
    "# with open(os.path.join(BASE_DIR, 'quasar_zone.txt'), 'r+') as f_read:\n",
    "#     before = f_read.readline()\n",
    "#     if before != latest:\n",
    "#         bot.sendMessage(챗아이디, text='새 글이 올라왔어요!'+posts)\n",
    "#     #else: # 원래는 이 메시지를 보낼 필요가 없지만, 테스트 할 때는 봇이 동작하>$\n",
    "#         #bot.sendMessage(chat_id=chat_id, text='새 글이 없어요 ㅠㅠ')\n",
    "#     f_read.close()\n",
    "\n",
    "# with open(os.path.join(BASE_DIR, 'quasar_zone.txt'), 'w+') as f_write:\n",
    "#     f_write.write(latest)\n",
    "#     f_write.close()"
   ]
  },
  {
   "cell_type": "markdown",
   "metadata": {},
   "source": [
    "#### 셀레늄"
   ]
  },
  {
   "cell_type": "code",
   "execution_count": 37,
   "metadata": {},
   "outputs": [],
   "source": [
    "import requests\n",
    "from bs4 import BeautifulSoup\n",
    "import selenium\n",
    "from selenium import webdriver\n",
    "from selenium.webdriver.common.by import By\n",
    "from selenium.webdriver.common.keys import Keys\n",
    "import time\n",
    "import random\n",
    "import os\n",
    "import telegram\n",
    "\n",
    "bot = telegram.Bot(token='6460634038:AAFKoipDkC4gRHDB175-1J9SAUQ458vlVCY')\n",
    "#chat_id = bot.getUpdates()[-1].message.chat.id|\n",
    "BASE_DIR = os.path.dirname(os.path.abspath('__file__'))\n",
    "\n",
    "op = webdriver.ChromeOptions()\n",
    "op.add_argument(\"headless\")\n",
    "op.add_argument('user-agent=Mozilla/5.0')\n",
    "#op.add_argument('inprivate')\n",
    "driver = webdriver.Chrome('./chromedriver.exe', options=op)\n",
    "driver.get('https://quasarzone.com/bbs/qb_saleinfo')\n",
    "html = driver.page_source\n",
    "soup = BeautifulSoup(html, 'html.parser')"
   ]
  },
  {
   "cell_type": "code",
   "execution_count": 21,
   "metadata": {},
   "outputs": [
    {
     "data": {
      "text/plain": [
       "str"
      ]
     },
     "execution_count": 21,
     "metadata": {},
     "output_type": "execute_result"
    }
   ],
   "source": [
    "# 링크, 제목, 쇼핑몰, 가격, 작성시간, 고유키\n",
    "# 링크\n",
    "table = soup.find(\"table\")\n",
    "#print(table)\n",
    "post = table.find(\"a\", class_=\"subject-link\")[\"href\"]\n",
    "#print(post)\n",
    "posts = 'https://quasarzone.com'+ post\n",
    "\n",
    "# 제목, 쇼핑몰\n",
    "tit = soup.select(\".ellipsis-with-reply-cnt\")[0].text\n",
    "mall, title = tit.split(']')[0][1:], tit.split(']')[1] \n",
    "\n",
    "# 가격\n",
    "price = soup.select(\".text-orange\")[0].text\n",
    "\n",
    "# 작성시간\n",
    "date = soup.select(\".date\")[0].text.strip()\n",
    "\n",
    "# 고유키 필요하냐? 필요없네....\n",
    "\n",
    "latest = posts + '\\t' + title + '\\t' + mall + price + '\\t' + date\n",
    "type(latest)"
   ]
  },
  {
   "cell_type": "code",
   "execution_count": 22,
   "metadata": {},
   "outputs": [
    {
     "data": {
      "text/plain": [
       "'https://quasarzone.com/bbs/qb_saleinfo/views/1373809\\t 마이크로닉스 WIZMAX W202TW 무선 블루투스 마우스 블랙&화이트 [9,900원/3,...\\t펀샵 ￦ 9,900 (KRW)\\t10:51'"
      ]
     },
     "execution_count": 22,
     "metadata": {},
     "output_type": "execute_result"
    }
   ],
   "source": [
    "latest"
   ]
  },
  {
   "cell_type": "code",
   "execution_count": 27,
   "metadata": {},
   "outputs": [],
   "source": [
    "import time\n",
    "import requests\n",
    "import json\n",
    "\n",
    "with open('snsid', 'r') as f:\n",
    "    secret = {l.split('=')[0]: l.split('=')[1].rstrip() for l in f.readlines()}\n",
    "\n",
    "token = secret['telegram_token']\n",
    "\n"
   ]
  },
  {
   "cell_type": "code",
   "execution_count": 32,
   "metadata": {},
   "outputs": [],
   "source": [
    "#!pip install nest_asyncio\n",
    "\n",
    "import nest_asyncio\n",
    "nest_asyncio.apply()"
   ]
  },
  {
   "cell_type": "code",
   "execution_count": 15,
   "metadata": {},
   "outputs": [],
   "source": [
    "bot = telegram.Bot(token=secret['telegram_token'])\n",
    "#chat_id = bot.getUpdates()[-1].message.chat.id\n",
    "BASE_DIR = os.path.dirname(os.path.abspath('__file__'))"
   ]
  },
  {
   "cell_type": "code",
   "execution_count": 18,
   "metadata": {},
   "outputs": [
    {
     "data": {
      "text/plain": [
       "True"
      ]
     },
     "execution_count": 18,
     "metadata": {},
     "output_type": "execute_result"
    }
   ],
   "source": [
    "before != latest"
   ]
  },
  {
   "cell_type": "code",
   "execution_count": 38,
   "metadata": {},
   "outputs": [
    {
     "ename": "UnboundLocalError",
     "evalue": "cannot access local variable 'token' where it is not associated with a value",
     "output_type": "error",
     "traceback": [
      "\u001b[1;31m---------------------------------------------------------------------------\u001b[0m",
      "\u001b[1;31mUnboundLocalError\u001b[0m                         Traceback (most recent call last)",
      "Cell \u001b[1;32mIn[38], line 18\u001b[0m\n\u001b[0;32m     15\u001b[0m \u001b[39mif\u001b[39;00m (before \u001b[39m!=\u001b[39m latest):\n\u001b[0;32m     16\u001b[0m \u001b[39m#if (before != latest) & (key_word in latest):\u001b[39;00m\n\u001b[0;32m     17\u001b[0m     hotdealmessage \u001b[39m=\u001b[39m \u001b[39mf\u001b[39m\u001b[39m'\u001b[39m\u001b[39m{\u001b[39;00mkey_word\u001b[39m}\u001b[39;00m\u001b[39m 관련 새 글이 올라왔어요!\u001b[39m\u001b[39m'\u001b[39m \u001b[39m+\u001b[39m  latest \u001b[39m# posts\u001b[39;00m\n\u001b[1;32m---> 18\u001b[0m     asyncio\u001b[39m.\u001b[39mrun(main(hotdealmessage))\n\u001b[0;32m     19\u001b[0m     bot\u001b[39m.\u001b[39msendMessage(\u001b[39m'\u001b[39m\u001b[39m-1001913052342\u001b[39m\u001b[39m'\u001b[39m, text\u001b[39m=\u001b[39m key_word \u001b[39m+\u001b[39m \u001b[39m'\u001b[39m\u001b[39m 관련 새 글이 올라왔어요!\u001b[39m\u001b[39m'\u001b[39m\u001b[39m+\u001b[39m hotdealmessage)\n\u001b[0;32m     20\u001b[0m     \u001b[39mprint\u001b[39m(\u001b[39m'\u001b[39m\u001b[39m전송했음\u001b[39m\u001b[39m'\u001b[39m)\n",
      "File \u001b[1;32mc:\\Users\\tjtmd\\anaconda3\\envs\\multi\\Lib\\site-packages\\nest_asyncio.py:35\u001b[0m, in \u001b[0;36m_patch_asyncio.<locals>.run\u001b[1;34m(main, debug)\u001b[0m\n\u001b[0;32m     33\u001b[0m task \u001b[39m=\u001b[39m asyncio\u001b[39m.\u001b[39mensure_future(main)\n\u001b[0;32m     34\u001b[0m \u001b[39mtry\u001b[39;00m:\n\u001b[1;32m---> 35\u001b[0m     \u001b[39mreturn\u001b[39;00m loop\u001b[39m.\u001b[39mrun_until_complete(task)\n\u001b[0;32m     36\u001b[0m \u001b[39mfinally\u001b[39;00m:\n\u001b[0;32m     37\u001b[0m     \u001b[39mif\u001b[39;00m \u001b[39mnot\u001b[39;00m task\u001b[39m.\u001b[39mdone():\n",
      "File \u001b[1;32mc:\\Users\\tjtmd\\anaconda3\\envs\\multi\\Lib\\site-packages\\nest_asyncio.py:90\u001b[0m, in \u001b[0;36m_patch_loop.<locals>.run_until_complete\u001b[1;34m(self, future)\u001b[0m\n\u001b[0;32m     87\u001b[0m \u001b[39mif\u001b[39;00m \u001b[39mnot\u001b[39;00m f\u001b[39m.\u001b[39mdone():\n\u001b[0;32m     88\u001b[0m     \u001b[39mraise\u001b[39;00m \u001b[39mRuntimeError\u001b[39;00m(\n\u001b[0;32m     89\u001b[0m         \u001b[39m'\u001b[39m\u001b[39mEvent loop stopped before Future completed.\u001b[39m\u001b[39m'\u001b[39m)\n\u001b[1;32m---> 90\u001b[0m \u001b[39mreturn\u001b[39;00m f\u001b[39m.\u001b[39mresult()\n",
      "File \u001b[1;32mc:\\Users\\tjtmd\\anaconda3\\envs\\multi\\Lib\\asyncio\\futures.py:203\u001b[0m, in \u001b[0;36mFuture.result\u001b[1;34m(self)\u001b[0m\n\u001b[0;32m    201\u001b[0m \u001b[39mself\u001b[39m\u001b[39m.\u001b[39m__log_traceback \u001b[39m=\u001b[39m \u001b[39mFalse\u001b[39;00m\n\u001b[0;32m    202\u001b[0m \u001b[39mif\u001b[39;00m \u001b[39mself\u001b[39m\u001b[39m.\u001b[39m_exception \u001b[39mis\u001b[39;00m \u001b[39mnot\u001b[39;00m \u001b[39mNone\u001b[39;00m:\n\u001b[1;32m--> 203\u001b[0m     \u001b[39mraise\u001b[39;00m \u001b[39mself\u001b[39m\u001b[39m.\u001b[39m_exception\u001b[39m.\u001b[39mwith_traceback(\u001b[39mself\u001b[39m\u001b[39m.\u001b[39m_exception_tb)\n\u001b[0;32m    204\u001b[0m \u001b[39mreturn\u001b[39;00m \u001b[39mself\u001b[39m\u001b[39m.\u001b[39m_result\n",
      "File \u001b[1;32mc:\\Users\\tjtmd\\anaconda3\\envs\\multi\\Lib\\asyncio\\tasks.py:267\u001b[0m, in \u001b[0;36mTask.__step\u001b[1;34m(***failed resolving arguments***)\u001b[0m\n\u001b[0;32m    263\u001b[0m \u001b[39mtry\u001b[39;00m:\n\u001b[0;32m    264\u001b[0m     \u001b[39mif\u001b[39;00m exc \u001b[39mis\u001b[39;00m \u001b[39mNone\u001b[39;00m:\n\u001b[0;32m    265\u001b[0m         \u001b[39m# We use the `send` method directly, because coroutines\u001b[39;00m\n\u001b[0;32m    266\u001b[0m         \u001b[39m# don't have `__iter__` and `__next__` methods.\u001b[39;00m\n\u001b[1;32m--> 267\u001b[0m         result \u001b[39m=\u001b[39m coro\u001b[39m.\u001b[39msend(\u001b[39mNone\u001b[39;00m)\n\u001b[0;32m    268\u001b[0m     \u001b[39melse\u001b[39;00m:\n\u001b[0;32m    269\u001b[0m         result \u001b[39m=\u001b[39m coro\u001b[39m.\u001b[39mthrow(exc)\n",
      "Cell \u001b[1;32mIn[38], line 7\u001b[0m, in \u001b[0;36mmain\u001b[1;34m(message)\u001b[0m\n\u001b[0;32m      6\u001b[0m \u001b[39masync\u001b[39;00m \u001b[39mdef\u001b[39;00m \u001b[39mmain\u001b[39m(message): \u001b[39m#실행시킬 함수명 임의지정\u001b[39;00m\n\u001b[1;32m----> 7\u001b[0m     token \u001b[39m=\u001b[39m token \n\u001b[0;32m      8\u001b[0m     chat_id\u001b[39m=\u001b[39m chat_id\n\u001b[0;32m      9\u001b[0m     bot \u001b[39m=\u001b[39m telegram\u001b[39m.\u001b[39mBot(token \u001b[39m=\u001b[39m token)\n",
      "\u001b[1;31mUnboundLocalError\u001b[0m: cannot access local variable 'token' where it is not associated with a value"
     ]
    }
   ],
   "source": [
    "import asyncio\n",
    "# token = secret['telegram_token']\n",
    "# test1id = secret['test1id']\n",
    "token = \"6460634038:AAFKoipDkC4gRHDB175-1J9SAUQ458vlVCY\" \n",
    "chat_id= '-1001913052342'\n",
    "async def main(message): #실행시킬 함수명 임의지정\n",
    "    token = token \n",
    "    chat_id= chat_id\n",
    "    bot = telegram.Bot(token = token)\n",
    "    await bot.send_message(chat_id, message)\n",
    "\n",
    "key_word='삼성'\n",
    "with open(os.path.join(BASE_DIR, 'quasar_zone.txt'), 'r+') as f_read:\n",
    "    before = f_read.readline()\n",
    "    if (before != latest):\n",
    "    #if (before != latest) & (key_word in latest):\n",
    "        hotdealmessage = f'{key_word} 관련 새 글이 올라왔어요!' +  latest # posts\n",
    "        asyncio.run(main(hotdealmessage))\n",
    "        bot.sendMessage('-1001913052342', text= key_word + ' 관련 새 글이 올라왔어요!'+ hotdealmessage)\n",
    "        print('전송했음')\n",
    "    else: \n",
    "        pass\n",
    "    f_read.close()\n",
    "\n",
    "with open(os.path.join(BASE_DIR, 'quasar_zone.txt'), 'w+') as f_write:\n",
    "    f_write.write(latest)\n",
    "    f_write.close()\n",
    "\n",
    " #봇 실행하는 코드\n"
   ]
  },
  {
   "cell_type": "code",
   "execution_count": 36,
   "metadata": {},
   "outputs": [],
   "source": [
    "import asyncio\n",
    "\n",
    "async def main(): #실행시킬 함수명 임의지정\n",
    "    token = \"6460634038:AAFKoipDkC4gRHDB175-1J9SAUQ458vlVCY\" \n",
    "    chat_id= '-1001913052342'\n",
    "    bot = telegram.Bot(token = token)\n",
    "    await bot.send_message(chat_id, '보내져라좀')\n",
    "\n",
    "asyncio.run(main()) #봇 실행하는 코드"
   ]
  },
  {
   "cell_type": "markdown",
   "metadata": {},
   "source": [
    "#### 까까오톡"
   ]
  },
  {
   "cell_type": "code",
   "execution_count": 80,
   "metadata": {},
   "outputs": [],
   "source": [
    "url = 'https://kauth.kakao.com/oauth/token'  # 카톡 인증 url\n",
    "# rest_api_key = '자신의 rest api key 값'  # 카톡 rest 키\n",
    "rest_api_key = secret['rest_api_key']\n",
    "redirect_uri = 'https://example.com/oauth'  # 카톡 인증용 redirect url\n",
    "authorize_code = secret['authorize_code']\n"
   ]
  },
  {
   "cell_type": "code",
   "execution_count": 81,
   "metadata": {},
   "outputs": [],
   "source": [
    "\n",
    "# 최초 token들 발급하여 refresh token 저장\n",
    "def f_get_refresh_token():\n",
    "    data = {\n",
    "        'grant_type': 'authorization_code',\n",
    "        'client_id': rest_api_key,\n",
    "        'redirect_uri': redirect_uri,\n",
    "        'code': authorize_code,\n",
    "    }\n",
    "\n",
    "    response = requests.post(url, data=data)\n",
    "    tokens = response.json()\n",
    "\n",
    "    with open('refresh_token.json', 'w') as fd:\n",
    "        json.dump(tokens, fd)\n",
    "\n",
    "\n",
    "# refresh token을 이용하여 새로운 access token 발급\n",
    "def f_reissue_token():\n",
    "    with open('refresh_token.json', 'r') as fd:\n",
    "        token = json.load(fd)\n",
    "    refresh_token = token['refresh_token']\n",
    "    data = {\n",
    "        'grant_type': 'refresh_token',\n",
    "        'client_id': rest_api_key,\n",
    "        'refresh_token': refresh_token\n",
    "    }\n",
    "    response = requests.post(url, data=data)\n",
    "    tokens = response.json()\n",
    "\n",
    "    with open('access_token.json', 'w') as fd:\n",
    "        json.dump(tokens, fd)\n",
    "    with open('access_token.json', 'r') as fd:\n",
    "        ts = json.load(fd)\n",
    "    access_token = ts['access_token']\n",
    "    return access_token\n",
    "\n",
    "\n",
    "# 메시지 전송\n",
    "def f_send_msg(access_token, msg):\n",
    "    header = {'Authorization': 'Bearer ' + access_token}\n",
    "    url = 'https://kapi.kakao.com/v2/api/talk/memo/default/send'  # 나에게 보내기 주소\n",
    "    post = {\n",
    "        'object_type': 'text',\n",
    "        'text': msg,\n",
    "        'link': {\n",
    "            'web_url': 'https://developers.kakao.com',\n",
    "            'mobile_web_url': 'https://developers.kakao.com'\n",
    "        },\n",
    "        'button_title': '키워드'\n",
    "    }\n",
    "    data = {'template_object': json.dumps(post)}\n",
    "    return requests.post(url, headers=header, data=data)"
   ]
  },
  {
   "cell_type": "code",
   "execution_count": null,
   "metadata": {},
   "outputs": [],
   "source": [
    "f_get_refresh_token()\n",
    "print('1')\n",
    "access_token= f_reissue_token()\n",
    "print('2')\n",
    "f_send_msg(access_token, latest)\n",
    "print('3')\n",
    "\n",
    "\n",
    "\n"
   ]
  },
  {
   "cell_type": "code",
   "execution_count": 77,
   "metadata": {},
   "outputs": [
    {
     "ename": "TypeError",
     "evalue": "'coroutine' object is not subscriptable",
     "output_type": "error",
     "traceback": [
      "\u001b[1;31m---------------------------------------------------------------------------\u001b[0m",
      "\u001b[1;31mTypeError\u001b[0m                                 Traceback (most recent call last)",
      "Cell \u001b[1;32mIn[77], line 5\u001b[0m\n\u001b[0;32m      3\u001b[0m updates \u001b[39m=\u001b[39m bot\u001b[39m.\u001b[39mgetUpdates()\n\u001b[0;32m      4\u001b[0m \u001b[39m# 신규메시지조회\u001b[39;00m\n\u001b[1;32m----> 5\u001b[0m \u001b[39mprint\u001b[39m(updates[\u001b[39m-\u001b[39m\u001b[39m1\u001b[39m]\u001b[39m.\u001b[39mmessage\u001b[39m.\u001b[39mchat\u001b[39m.\u001b[39mid)\n",
      "\u001b[1;31mTypeError\u001b[0m: 'coroutine' object is not subscriptable"
     ]
    }
   ],
   "source": [
    "import telegram\n",
    "bot = telegram.Bot(token)\n",
    "updates = bot.getUpdates()\n",
    "# 신규메시지조회\n",
    "print(updates[-1].message.chat.id)"
   ]
  },
  {
   "cell_type": "code",
   "execution_count": 17,
   "metadata": {},
   "outputs": [],
   "source": []
  },
  {
   "cell_type": "code",
   "execution_count": 70,
   "metadata": {},
   "outputs": [
    {
     "ename": "RuntimeError",
     "evalue": "asyncio.run() cannot be called from a running event loop",
     "output_type": "error",
     "traceback": [
      "\u001b[1;31m---------------------------------------------------------------------------\u001b[0m",
      "\u001b[1;31mRuntimeError\u001b[0m                              Traceback (most recent call last)",
      "Cell \u001b[1;32mIn[70], line 9\u001b[0m\n\u001b[0;32m      6\u001b[0m     bot \u001b[39m=\u001b[39m telegram\u001b[39m.\u001b[39mBot(token \u001b[39m=\u001b[39m token)\n\u001b[0;32m      7\u001b[0m     \u001b[39mawait\u001b[39;00m bot\u001b[39m.\u001b[39msend_message(chat_id,\u001b[39m'\u001b[39m\u001b[39m보낼메세지\u001b[39m\u001b[39m'\u001b[39m)\n\u001b[1;32m----> 9\u001b[0m asyncio\u001b[39m.\u001b[39mrun(telemessage())\n",
      "File \u001b[1;32mc:\\Users\\tjtmd\\anaconda3\\envs\\multi\\Lib\\asyncio\\runners.py:186\u001b[0m, in \u001b[0;36mrun\u001b[1;34m(main, debug)\u001b[0m\n\u001b[0;32m    161\u001b[0m \u001b[39m\u001b[39m\u001b[39m\"\"\"Execute the coroutine and return the result.\u001b[39;00m\n\u001b[0;32m    162\u001b[0m \n\u001b[0;32m    163\u001b[0m \u001b[39mThis function runs the passed coroutine, taking care of\u001b[39;00m\n\u001b[1;32m   (...)\u001b[0m\n\u001b[0;32m    182\u001b[0m \u001b[39m    asyncio.run(main())\u001b[39;00m\n\u001b[0;32m    183\u001b[0m \u001b[39m\"\"\"\u001b[39;00m\n\u001b[0;32m    184\u001b[0m \u001b[39mif\u001b[39;00m events\u001b[39m.\u001b[39m_get_running_loop() \u001b[39mis\u001b[39;00m \u001b[39mnot\u001b[39;00m \u001b[39mNone\u001b[39;00m:\n\u001b[0;32m    185\u001b[0m     \u001b[39m# fail fast with short traceback\u001b[39;00m\n\u001b[1;32m--> 186\u001b[0m     \u001b[39mraise\u001b[39;00m \u001b[39mRuntimeError\u001b[39;00m(\n\u001b[0;32m    187\u001b[0m         \u001b[39m\"\u001b[39m\u001b[39masyncio.run() cannot be called from a running event loop\u001b[39m\u001b[39m\"\u001b[39m)\n\u001b[0;32m    189\u001b[0m \u001b[39mwith\u001b[39;00m Runner(debug\u001b[39m=\u001b[39mdebug) \u001b[39mas\u001b[39;00m runner:\n\u001b[0;32m    190\u001b[0m     \u001b[39mreturn\u001b[39;00m runner\u001b[39m.\u001b[39mrun(main)\n",
      "\u001b[1;31mRuntimeError\u001b[0m: asyncio.run() cannot be called from a running event loop"
     ]
    }
   ],
   "source": [
    "import asyncio\n",
    "\n",
    "async def telemessage(): #실행시킬 함수명 임의지정\n",
    "    token = \"6460634038:AAFKoipDkC4gRHDB175-1J9SAUQ458vlVCY\" \n",
    "    chat_id = '-1001913052342'\n",
    "    bot = telegram.Bot(token = token)\n",
    "    await bot.send_message(chat_id,'보낼메세지')\n",
    "\n",
    "asyncio.run(telemessage()) #봇 실행하는 코드"
   ]
  },
  {
   "cell_type": "code",
   "execution_count": 72,
   "metadata": {},
   "outputs": [
    {
     "data": {
      "text/plain": [
       "<coroutine object Bot.send_message at 0x000002106CD47D40>"
      ]
     },
     "execution_count": 72,
     "metadata": {},
     "output_type": "execute_result"
    }
   ],
   "source": [
    "from telegram import Bot\n",
    "\n",
    "token = \"6460634038:AAFKoipDkC4gRHDB175-1J9SAUQ458vlVCY\"\n",
    "chat_id = \"-1001913052342\"\n",
    "\n",
    "bot = Bot(token=token)\n",
    "bot.send_message(chat_id=chat_id, text=\"Hello, World!\")"
   ]
  },
  {
   "cell_type": "code",
   "execution_count": 73,
   "metadata": {},
   "outputs": [
    {
     "ename": "RuntimeError",
     "evalue": "asyncio.run() cannot be called from a running event loop",
     "output_type": "error",
     "traceback": [
      "\u001b[1;31m---------------------------------------------------------------------------\u001b[0m",
      "\u001b[1;31mRuntimeError\u001b[0m                              Traceback (most recent call last)",
      "Cell \u001b[1;32mIn[73], line 19\u001b[0m\n\u001b[0;32m     16\u001b[0m         \u001b[39mawait\u001b[39;00m bot\u001b[39m.\u001b[39msend_message(mychat_id, lines[x:x\u001b[39m+\u001b[39m\u001b[39m4095\u001b[39m])\n\u001b[0;32m     17\u001b[0m         time\u001b[39m.\u001b[39msleep(\u001b[39m5\u001b[39m)\n\u001b[1;32m---> 19\u001b[0m asyncio\u001b[39m.\u001b[39mrun(main())\n",
      "File \u001b[1;32mc:\\Users\\tjtmd\\anaconda3\\envs\\multi\\Lib\\asyncio\\runners.py:186\u001b[0m, in \u001b[0;36mrun\u001b[1;34m(main, debug)\u001b[0m\n\u001b[0;32m    161\u001b[0m \u001b[39m\u001b[39m\u001b[39m\"\"\"Execute the coroutine and return the result.\u001b[39;00m\n\u001b[0;32m    162\u001b[0m \n\u001b[0;32m    163\u001b[0m \u001b[39mThis function runs the passed coroutine, taking care of\u001b[39;00m\n\u001b[1;32m   (...)\u001b[0m\n\u001b[0;32m    182\u001b[0m \u001b[39m    asyncio.run(main())\u001b[39;00m\n\u001b[0;32m    183\u001b[0m \u001b[39m\"\"\"\u001b[39;00m\n\u001b[0;32m    184\u001b[0m \u001b[39mif\u001b[39;00m events\u001b[39m.\u001b[39m_get_running_loop() \u001b[39mis\u001b[39;00m \u001b[39mnot\u001b[39;00m \u001b[39mNone\u001b[39;00m:\n\u001b[0;32m    185\u001b[0m     \u001b[39m# fail fast with short traceback\u001b[39;00m\n\u001b[1;32m--> 186\u001b[0m     \u001b[39mraise\u001b[39;00m \u001b[39mRuntimeError\u001b[39;00m(\n\u001b[0;32m    187\u001b[0m         \u001b[39m\"\u001b[39m\u001b[39masyncio.run() cannot be called from a running event loop\u001b[39m\u001b[39m\"\u001b[39m)\n\u001b[0;32m    189\u001b[0m \u001b[39mwith\u001b[39;00m Runner(debug\u001b[39m=\u001b[39mdebug) \u001b[39mas\u001b[39;00m runner:\n\u001b[0;32m    190\u001b[0m     \u001b[39mreturn\u001b[39;00m runner\u001b[39m.\u001b[39mrun(main)\n",
      "\u001b[1;31mRuntimeError\u001b[0m: asyncio.run() cannot be called from a running event loop"
     ]
    }
   ],
   "source": [
    "import subprocess, sys, telegram,time\n",
    "import asyncio\n",
    "\n",
    "my_token =  \"6460634038:AAFKoipDkC4gRHDB175-1J9SAUQ458vlVCY\"\n",
    "mychat_id = \"-1001913052342\"\n",
    "\n",
    "async def main():\n",
    "    bot = telegram.Bot(token=my_token)\n",
    "\n",
    "    with open(sys.argv[1], errors='ignore') as input_f:\n",
    "        lines = input_f.readlines()\n",
    "\n",
    "    lines = \"\".join(lines)\n",
    "\n",
    "    for x in range(0, len(lines), 4095):\n",
    "        await bot.send_message(mychat_id, lines[x:x+4095])\n",
    "        time.sleep(5)\n",
    "\n",
    "asyncio.run(main())"
   ]
  },
  {
   "cell_type": "code",
   "execution_count": null,
   "metadata": {},
   "outputs": [],
   "source": []
  },
  {
   "cell_type": "code",
   "execution_count": null,
   "metadata": {},
   "outputs": [
    {
     "ename": "RuntimeError",
     "evalue": "Cannot close a running event loop",
     "output_type": "error",
     "traceback": [
      "\u001b[1;31m---------------------------------------------------------------------------\u001b[0m\n",
      "\u001b[1;31mRuntimeError\u001b[0m                              Traceback (most recent call last)\n",
      "Cell \u001b[1;32mIn[12], line 13\u001b[0m\n",
      "\u001b[0;32m      9\u001b[0m app \u001b[39m=\u001b[39m ApplicationBuilder()\u001b[39m.\u001b[39mtoken(token)\u001b[39m.\u001b[39mbuild()\n",
      "\u001b[0;32m     11\u001b[0m app\u001b[39m.\u001b[39madd_handler(CommandHandler(\u001b[39m\"\u001b[39m\u001b[39mhello\u001b[39m\u001b[39m\"\u001b[39m, hello))\n",
      "\u001b[1;32m---> 13\u001b[0m app\u001b[39m.\u001b[39mrun_polling()\n",
      "\n",
      "File \u001b[1;32mc:\\Users\\tjtmd\\anaconda3\\envs\\multi\\Lib\\site-packages\\telegram\\ext\\_application.py:752\u001b[0m, in \u001b[0;36mApplication.run_polling\u001b[1;34m(self, poll_interval, timeout, bootstrap_retries, read_timeout, write_timeout, connect_timeout, pool_timeout, allowed_updates, drop_pending_updates, close_loop, stop_signals)\u001b[0m\n",
      "\u001b[0;32m    749\u001b[0m \u001b[39mdef\u001b[39;00m \u001b[39merror_callback\u001b[39m(exc: TelegramError) \u001b[39m-\u001b[39m\u001b[39m>\u001b[39m \u001b[39mNone\u001b[39;00m:\n",
      "\u001b[0;32m    750\u001b[0m     \u001b[39mself\u001b[39m\u001b[39m.\u001b[39mcreate_task(\u001b[39mself\u001b[39m\u001b[39m.\u001b[39mprocess_error(error\u001b[39m=\u001b[39mexc, update\u001b[39m=\u001b[39m\u001b[39mNone\u001b[39;00m))\n",
      "\u001b[1;32m--> 752\u001b[0m \u001b[39mreturn\u001b[39;00m \u001b[39mself\u001b[39m\u001b[39m.\u001b[39m__run(\n",
      "\u001b[0;32m    753\u001b[0m     updater_coroutine\u001b[39m=\u001b[39m\u001b[39mself\u001b[39m\u001b[39m.\u001b[39mupdater\u001b[39m.\u001b[39mstart_polling(\n",
      "\u001b[0;32m    754\u001b[0m         poll_interval\u001b[39m=\u001b[39mpoll_interval,\n",
      "\u001b[0;32m    755\u001b[0m         timeout\u001b[39m=\u001b[39mtimeout,\n",
      "\u001b[0;32m    756\u001b[0m         bootstrap_retries\u001b[39m=\u001b[39mbootstrap_retries,\n",
      "\u001b[0;32m    757\u001b[0m         read_timeout\u001b[39m=\u001b[39mread_timeout,\n",
      "\u001b[0;32m    758\u001b[0m         write_timeout\u001b[39m=\u001b[39mwrite_timeout,\n",
      "\u001b[0;32m    759\u001b[0m         connect_timeout\u001b[39m=\u001b[39mconnect_timeout,\n",
      "\u001b[0;32m    760\u001b[0m         pool_timeout\u001b[39m=\u001b[39mpool_timeout,\n",
      "\u001b[0;32m    761\u001b[0m         allowed_updates\u001b[39m=\u001b[39mallowed_updates,\n",
      "\u001b[0;32m    762\u001b[0m         drop_pending_updates\u001b[39m=\u001b[39mdrop_pending_updates,\n",
      "\u001b[0;32m    763\u001b[0m         error_callback\u001b[39m=\u001b[39merror_callback,  \u001b[39m# if there is an error in fetching updates\u001b[39;00m\n",
      "\u001b[0;32m    764\u001b[0m     ),\n",
      "\u001b[0;32m    765\u001b[0m     close_loop\u001b[39m=\u001b[39mclose_loop,\n",
      "\u001b[0;32m    766\u001b[0m     stop_signals\u001b[39m=\u001b[39mstop_signals,\n",
      "\u001b[0;32m    767\u001b[0m )\n",
      "\n",
      "File \u001b[1;32mc:\\Users\\tjtmd\\anaconda3\\envs\\multi\\Lib\\site-packages\\telegram\\ext\\_application.py:962\u001b[0m, in \u001b[0;36mApplication.__run\u001b[1;34m(self, updater_coroutine, stop_signals, close_loop)\u001b[0m\n",
      "\u001b[0;32m    960\u001b[0m \u001b[39mfinally\u001b[39;00m:\n",
      "\u001b[0;32m    961\u001b[0m     \u001b[39mif\u001b[39;00m close_loop:\n",
      "\u001b[1;32m--> 962\u001b[0m         loop\u001b[39m.\u001b[39mclose()\n",
      "\n",
      "File \u001b[1;32mc:\\Users\\tjtmd\\anaconda3\\envs\\multi\\Lib\\asyncio\\selector_events.py:88\u001b[0m, in \u001b[0;36mBaseSelectorEventLoop.close\u001b[1;34m(self)\u001b[0m\n",
      "\u001b[0;32m     86\u001b[0m \u001b[39mdef\u001b[39;00m \u001b[39mclose\u001b[39m(\u001b[39mself\u001b[39m):\n",
      "\u001b[0;32m     87\u001b[0m     \u001b[39mif\u001b[39;00m \u001b[39mself\u001b[39m\u001b[39m.\u001b[39mis_running():\n",
      "\u001b[1;32m---> 88\u001b[0m         \u001b[39mraise\u001b[39;00m \u001b[39mRuntimeError\u001b[39;00m(\u001b[39m\"\u001b[39m\u001b[39mCannot close a running event loop\u001b[39m\u001b[39m\"\u001b[39m)\n",
      "\u001b[0;32m     89\u001b[0m     \u001b[39mif\u001b[39;00m \u001b[39mself\u001b[39m\u001b[39m.\u001b[39mis_closed():\n",
      "\u001b[0;32m     90\u001b[0m         \u001b[39mreturn\u001b[39;00m\n",
      "\n",
      "\u001b[1;31mRuntimeError\u001b[0m: Cannot close a running event loop"
     ]
    }
   ],
   "source": [
    "# from telegram import Update\n",
    "# from telegram.ext import ApplicationBuilder, CommandHandler, ContextTypes\n",
    "\n",
    "\n",
    "# async def hello(update: Update, context: ContextTypes.DEFAULT_TYPE) -> None:\n",
    "#     await update.message.reply_text(f'Hello {update.effective_user.first_name}')\n",
    "\n",
    "\n",
    "# app = ApplicationBuilder().token(token).build()\n",
    "\n",
    "# app.add_handler(CommandHandler(\"hello\", hello))\n",
    "\n",
    "# app.run_polling()"
   ]
  }
 ],
 "metadata": {
  "kernelspec": {
   "display_name": "multi",
   "language": "python",
   "name": "python3"
  },
  "language_info": {
   "codemirror_mode": {
    "name": "ipython",
    "version": 3
   },
   "file_extension": ".py",
   "mimetype": "text/x-python",
   "name": "python",
   "nbconvert_exporter": "python",
   "pygments_lexer": "ipython3",
   "version": "3.11.4"
  },
  "orig_nbformat": 4
 },
 "nbformat": 4,
 "nbformat_minor": 2
}
